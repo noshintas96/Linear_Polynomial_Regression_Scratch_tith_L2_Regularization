{
 "cells": [
  {
   "cell_type": "markdown",
   "metadata": {},
   "source": [
    "As a part of implementing linear and polynomial regression, we will load the training data hw1xtr.dat and hw1ytr.dat   into the memory. As well as, we will plot the train dataset to get a overview of the given data and their pattern."
   ]
  },
  {
   "cell_type": "code",
   "execution_count": 1,
   "metadata": {},
   "outputs": [],
   "source": [
    "# Importing libraries\n",
    "\n",
    "import pandas as pd\n",
    "import numpy as np\n",
    "import matplotlib.pyplot as plt\n",
    "from numpy.linalg import inv"
   ]
  },
  {
   "cell_type": "code",
   "execution_count": 2,
   "metadata": {},
   "outputs": [],
   "source": [
    "# Loading Training data x and y\n",
    "\n",
    "trainx = pd.read_csv('hw1xtr.dat.txt',  header = None) \n",
    "trainy = pd.read_csv('hw1ytr.dat.txt', header = None) \n",
    "\n",
    "xTrain = trainx.values\n",
    "yTrain = trainy.values\n"
   ]
  },
  {
   "cell_type": "code",
   "execution_count": 3,
   "metadata": {},
   "outputs": [
    {
     "data": {
      "image/png": "[encoded data removed]",
      "text/plain": [
       "<Figure size 432x288 with 1 Axes>"
      ]
     },
     "metadata": {
      "needs_background": "light"
     },
     "output_type": "display_data"
    }
   ],
   "source": [
    "# Plot the training data\n",
    "\n",
    "plt.scatter(xTrain, yTrain, color = 'b',  marker = \"o\", s = 30)\n",
    "plt.title('Training Data')\n",
    "plt.xlabel('xTrain')\n",
    "plt.ylabel('yTrain')\n",
    "plt.show()\n"
   ]
  },
  {
   "cell_type": "markdown",
   "metadata": {},
   "source": [
    "Now, we will load the test data hw1xte.dat and hw1yte.dat into the memory. As well as, we will plot both the test data."
   ]
  },
  {
   "cell_type": "code",
   "execution_count": 4,
   "metadata": {},
   "outputs": [],
   "source": [
    "# Loading Test data x and y\n",
    "\n",
    "testx = pd.read_csv('hw1xte.dat.txt',  header = None) \n",
    "testy = pd.read_csv('hw1yte.dat.txt', header = None) \n",
    "\n",
    "xTest = testx.values\n",
    "yTest = testy.values\n"
   ]
  },
  {
   "cell_type": "code",
   "execution_count": 5,
   "metadata": {},
   "outputs": [
    {
     "data": {
      "image/png": "[encoded data removed]",
      "text/plain": [
       "<Figure size 432x288 with 1 Axes>"
      ]
     },
     "metadata": {
      "needs_background": "light"
     },
     "output_type": "display_data"
    }
   ],
   "source": [
    "# Plot the test data\n",
    "\n",
    "plt.scatter(xTest, yTest, color = 'g')\n",
    "plt.title('Test Data')\n",
    "plt.xlabel('xTest')\n",
    "plt.ylabel('yTest')\n",
    "plt.show()"
   ]
  },
  {
   "cell_type": "markdown",
   "metadata": {},
   "source": [
    "In order to implement Linear Regression, we need to obtain a 2-dimensional weight vector. For that, we will add a column vector of 1’s to the features with the training data. After that, we will use formula of weight vector for  regression."
   ]
  },
  {
   "cell_type": "code",
   "execution_count": 6,
   "metadata": {},
   "outputs": [],
   "source": [
    "# creating 2-dim matrix with column vector of 1's\n",
    "\n",
    "X1 = np.c_[np.ones(len(xTrain)), xTrain]\n",
    "\n",
    "# calculating weight vector\n",
    "\n",
    "xT = X1.transpose()\n",
    "xTx = xT.dot(X1)\n",
    "invxTx = np.linalg.inv(xTx)\n",
    "invxTxxT = invxTx.dot(xT)\n",
    "weight = invxTxxT.dot(yTrain)\n"
   ]
  },
  {
   "cell_type": "markdown",
   "metadata": {},
   "source": [
    "We will be creating a function which will calculate the predicted y value for the given train data x using the calculated weight from training phase. Plotting the train x data and new predicted y values, we will get the linear regression line for training data."
   ]
  },
  {
   "cell_type": "code",
   "execution_count": 7,
   "metadata": {},
   "outputs": [],
   "source": [
    "# gerenating linear regression line for train data\n",
    "\n",
    "y_predtr1 = []\n",
    "def linear_regression_tr(x, y, w):\n",
    "    \n",
    "    # Plotting the train data as scatter plot \n",
    "    plt.scatter(x, y, label = 'Train Data',color = \"b\") \n",
    "    \n",
    "    # calculating y pred\n",
    "    global y_predtr1\n",
    "    y_predtr1 = w[0] + w[1]*x \n",
    "    \n",
    "    # Plotting the linear regression line \n",
    "    plt.plot(x, y_predtr1,label='Linear Regression Line', color = \"r\") \n",
    "    plt.title('Linear Regression for Training Data')\n",
    "    plt.xlabel('x') \n",
    "    plt.ylabel('y')\n",
    "    plt.legend()\n",
    "    plt.show() \n",
    " "
   ]
  },
  {
   "cell_type": "code",
   "execution_count": 8,
   "metadata": {},
   "outputs": [
    {
     "data": {
      "image/png": "[encoded data removed]",
      "text/plain": [
       "<Figure size 432x288 with 1 Axes>"
      ]
     },
     "metadata": {
      "needs_background": "light"
     },
     "output_type": "display_data"
    }
   ],
   "source": [
    "# calling the function for linear regression line for train data\n",
    "\n",
    "linear_regression_tr(xTrain, yTrain, weight)"
   ]
  },
  {
   "cell_type": "markdown",
   "metadata": {},
   "source": [
    "Now, we will caculate the average error on the training set implementing equation 1."
   ]
  },
  {
   "cell_type": "code",
   "execution_count": 9,
   "metadata": {},
   "outputs": [
    {
     "name": "stdout",
     "output_type": "stream",
     "text": [
      "The average error of Linear Regression on the training set is  0.5085888601660317\n"
     ]
    }
   ],
   "source": [
    "#calculating average error on the training set\n",
    "\n",
    "hy1 = y_predtr1 - yTrain\n",
    "sqhy1 = np.square(hy1)\n",
    "sum1 = np.sum(sqhy1)\n",
    "error1 = sum1/len(xTrain)\n",
    "\n",
    "print(\"The average error of Linear Regression on the training set is \", error1)\n"
   ]
  },
  {
   "cell_type": "markdown",
   "metadata": {},
   "source": [
    "We will be creating a function which will calculate the predicted y value for the given test data x using the calculated weight from training phase. Plotting the test x data and new predicted y values, we will get the linear regression line for test data."
   ]
  },
  {
   "cell_type": "code",
   "execution_count": 10,
   "metadata": {},
   "outputs": [],
   "source": [
    "# gerenating linear regression line for test data\n",
    "\n",
    "y_predte1 = []\n",
    "def linear_regression_te(x, y, w): \n",
    "    # Plotting the test data as scatter plot \n",
    "    plt.scatter(x, y,label = 'Test Data', color = \"g\") \n",
    "    \n",
    "    # calculating y pred\n",
    "    global y_predte1\n",
    "    y_predte1 = w[0] + w[1]*x \n",
    "    \n",
    "    # Plotting the linear regression line \n",
    "    plt.plot(x, y_predte1,label='Linear Regression Line',  color = \"r\") \n",
    "    plt.title('Linear Regression for Test Data')\n",
    "    plt.xlabel('x') \n",
    "    plt.ylabel('y')\n",
    "    plt.legend()\n",
    "    plt.show() \n",
    " "
   ]
  },
  {
   "cell_type": "code",
   "execution_count": 11,
   "metadata": {},
   "outputs": [
    {
     "data": {
      "image/png": "[encoded data removed]",
      "text/plain": [
       "<Figure size 432x288 with 1 Axes>"
      ]
     },
     "metadata": {
      "needs_background": "light"
     },
     "output_type": "display_data"
    }
   ],
   "source": [
    "# calling the function for linear regression line for test data\n",
    "\n",
    "linear_regression_te(xTest, yTest, weight)"
   ]
  },
  {
   "cell_type": "markdown",
   "metadata": {},
   "source": [
    "Now, we will caculate the average error on the test set implementing equation 1."
   ]
  },
  {
   "cell_type": "code",
   "execution_count": 12,
   "metadata": {},
   "outputs": [
    {
     "name": "stdout",
     "output_type": "stream",
     "text": [
      "The average error of Linear Regression on the test set 0.44391185790775\n"
     ]
    }
   ],
   "source": [
    "#calculating average error on the test set\n",
    "\n",
    "hy11 = y_predte1 - yTest\n",
    "sqhy11 = np.square(hy11)\n",
    "sum11 = np.sum(sqhy11)\n",
    "error11 = sum11/len(xTest)\n",
    "\n",
    "print(\"The average error of Linear Regression on the test set\", error11)\n"
   ]
  },
  {
   "cell_type": "markdown",
   "metadata": {},
   "source": [
    "The average error on the training set and test set are 0.5085888601660317 and 0.44391185790775. From this, we can say that the predicted linear regression line is performing well on test data rather than train data."
   ]
  },
  {
   "cell_type": "markdown",
   "metadata": {},
   "source": [
    "In order to implement 2nd-order polynomial Regression, we need to obtain a 3-dimensional weight vector. For that, we will add a column vector of square of the training data x and a column vector of 1’s to the features with the training data. After that, we will use formula of weight vector for regression."
   ]
  },
  {
   "cell_type": "code",
   "execution_count": 13,
   "metadata": {},
   "outputs": [],
   "source": [
    "# creating 3-dim matrix \n",
    "X2 = np.c_[np.ones(len(xTrain)), xTrain, np.power(xTrain,2)]\n",
    "\n",
    "# calculating weight vector\n",
    "xT2 = X2.transpose()\n",
    "xTx2 = xT2.dot(X2)\n",
    "invxTx2 = np.linalg.inv(xTx2)\n",
    "invxTxxT2 = invxTx2.dot(xT2)\n",
    "weight2 = invxTxxT2.dot(yTrain)\n"
   ]
  },
  {
   "cell_type": "markdown",
   "metadata": {},
   "source": [
    "We will be creating a function which will calculate the predicted y value using the calculated weight from training phase for a newly constructed 1-D vector. Plotting the newly constructed 1-D vector and new predicted y values, we will get the 2nd-order polynomial regression line for training data.\n"
   ]
  },
  {
   "cell_type": "code",
   "execution_count": 14,
   "metadata": {},
   "outputs": [],
   "source": [
    "# gerenating 2nd-order polynomial regression line for train data\n",
    "\n",
    "y_predtr2 = []\n",
    "def sec_plonomial_regression_tr(x, y, w): \n",
    "    \n",
    "    # Plotting the train data as scatter plot\n",
    "    plt.scatter(x, y, label = 'Train Data', color = \"b\") \n",
    "\n",
    "    # newly constracted 1-D vector\n",
    "    x_new = np.linspace(xTrain.min(), xTrain.max(), 100)\n",
    "    \n",
    "    # calculating y pred\n",
    "    global y_predtr2\n",
    "    y_predtr2 = w[2]*np.square(x_new) + w[1]*x_new + w[0] \n",
    "\n",
    "    # Plotting the 2nd-order polynomial regression line \n",
    "    plt.plot(x_new, y_predtr2, label='2nd-order polynomial Regression Line', color = \"r\")  \n",
    "    plt.title('The 2nd-order polynomial Regression for Training Data')\n",
    "    plt.xlabel('x') \n",
    "    plt.ylabel('y')\n",
    "    plt.legend()\n",
    "    plt.show() \n"
   ]
  },
  {
   "cell_type": "code",
   "execution_count": 15,
   "metadata": {},
   "outputs": [
    {
     "data": {
      "image/png": "[encoded data removed]",
      "text/plain": [
       "<Figure size 432x288 with 1 Axes>"
      ]
     },
     "metadata": {
      "needs_background": "light"
     },
     "output_type": "display_data"
    }
   ],
   "source": [
    "# calling the function for 2nd-order polynomial line for train data\n",
    "sec_plonomial_regression_tr(xTrain, yTrain, weight2)\n"
   ]
  },
  {
   "cell_type": "markdown",
   "metadata": {},
   "source": [
    "Now, we will caculate the average error on the training set implementing equation 1."
   ]
  },
  {
   "cell_type": "code",
   "execution_count": 16,
   "metadata": {},
   "outputs": [
    {
     "name": "stdout",
     "output_type": "stream",
     "text": [
      "The average error of 2nd-order polynomial Regression on the training set 0.2009852319839665\n"
     ]
    }
   ],
   "source": [
    "#calculating average error on the training set\n",
    "\n",
    "hy2 = weight2[2]*np.square(xTrain) + weight2[1]*xTrain + weight2[0] - yTrain\n",
    "sqhy2 = np.square(hy2)\n",
    "sum2 = np.sum(sqhy2)\n",
    "error2 = sum2/len(xTrain)\n",
    "\n",
    "print(\"The average error of 2nd-order polynomial Regression on the training set\", error2)\n"
   ]
  },
  {
   "cell_type": "markdown",
   "metadata": {},
   "source": [
    "We will be creating a function which will calculate the predicted y value using the calculated weight from training phase for a newly constructed 1-D vector. Plotting the newly constructed 1-D vector and new predicted y values, we will get the 2nd-order polynomial regression line with respect to test data."
   ]
  },
  {
   "cell_type": "code",
   "execution_count": 17,
   "metadata": {},
   "outputs": [],
   "source": [
    "# gerenating 2nd-order polynomial regression line for test data\n",
    "\n",
    "y_predte2 = []\n",
    "def sec_plonomial_regression_te(x, y, w): \n",
    "    \n",
    "    # Plotting the test data as scatter plot\n",
    "    plt.scatter(x, y, label = 'Test Data', color = \"g\") \n",
    "\n",
    "    # newly constracted 1-D vector\n",
    "    x_new = np.linspace(xTrain.min(), xTrain.max(), 100)\n",
    "    \n",
    "    # calculating y pred\n",
    "    global y_predte2\n",
    "    y_predte2 = w[2]*np.square(x_new) + w[1]*x_new + w[0] \n",
    "  \n",
    "    # Plotting the regression line \n",
    "    plt.plot(x_new, y_predte2, label='2nd-order polynomial Regression Line', color = \"r\")  \n",
    "    plt.title('The 2nd-order polynomial Regression for Test Data')\n",
    "    plt.xlabel('x') \n",
    "    plt.ylabel('y')\n",
    "    plt.legend()\n",
    "    plt.show()\n",
    "    "
   ]
  },
  {
   "cell_type": "code",
   "execution_count": 18,
   "metadata": {},
   "outputs": [
    {
     "data": {
      "image/png": "[encoded data removed]",
      "text/plain": [
       "<Figure size 432x288 with 1 Axes>"
      ]
     },
     "metadata": {
      "needs_background": "light"
     },
     "output_type": "display_data"
    }
   ],
   "source": [
    "# calling the function for 2nd-order polynomial line for test data\n",
    "\n",
    "sec_plonomial_regression_te(xTest, yTest, weight2)"
   ]
  },
  {
   "cell_type": "markdown",
   "metadata": {},
   "source": [
    "Now, we will caculate the average error on the test set implementing equation 1."
   ]
  },
  {
   "cell_type": "code",
   "execution_count": 19,
   "metadata": {},
   "outputs": [
    {
     "name": "stdout",
     "output_type": "stream",
     "text": [
      "The average error of 2nd-order polynomial Regression on the test set 0.8532633206012233\n"
     ]
    }
   ],
   "source": [
    "#calculating average error on the test set\n",
    "\n",
    "hy22 = weight2[2]*np.square(xTest) + weight2[1]*xTest + weight2[0] - yTest\n",
    "sqhy22 = np.square(hy22)\n",
    "sum22 = np.sum(sqhy22)\n",
    "error22 = sum22/len(xTest)\n",
    "\n",
    "print(\"The average error of 2nd-order polynomial Regression on the test set\", error22)\n"
   ]
  },
  {
   "cell_type": "code",
   "execution_count": 20,
   "metadata": {},
   "outputs": [
    {
     "data": {
      "text/html": [
       "<div>\n",
       "<style scoped>\n",
       "    .dataframe tbody tr th:only-of-type {\n",
       "        vertical-align: middle;\n",
       "    }\n",
       "\n",
       "    .dataframe tbody tr th {\n",
       "        vertical-align: top;\n",
       "    }\n",
       "\n",
       "    .dataframe thead th {\n",
       "        text-align: right;\n",
       "    }\n",
       "</style>\n",
       "<table border=\"1\" class=\"dataframe\">\n",
       "  <thead>\n",
       "    <tr style=\"text-align: right;\">\n",
       "      <th></th>\n",
       "      <th>Model</th>\n",
       "      <th>Training Error</th>\n",
       "      <th>Test Error</th>\n",
       "    </tr>\n",
       "  </thead>\n",
       "  <tbody>\n",
       "    <tr>\n",
       "      <th>0</th>\n",
       "      <td>Linear Regression</td>\n",
       "      <td>0.508589</td>\n",
       "      <td>0.443912</td>\n",
       "    </tr>\n",
       "    <tr>\n",
       "      <th>1</th>\n",
       "      <td>2nd-order Polinomial Regression</td>\n",
       "      <td>0.200985</td>\n",
       "      <td>0.853263</td>\n",
       "    </tr>\n",
       "  </tbody>\n",
       "</table>\n",
       "</div>"
      ],
      "text/plain": [
       "                             Model  Training Error  Test Error\n",
       "0                Linear Regression        0.508589    0.443912\n",
       "1  2nd-order Polinomial Regression        0.200985    0.853263"
      ]
     },
     "execution_count": 20,
     "metadata": {},
     "output_type": "execute_result"
    }
   ],
   "source": [
    "#Comparison\n",
    "\n",
    "models = pd.DataFrame({\n",
    "    'Model': ['Linear Regression', \n",
    "              '2nd-order Polinomial Regression'],\n",
    "    'Training Error': [error1, error2],\n",
    "    'Test Error': [error11, error22],\n",
    "})\n",
    "models.sort_values(by='Test Error',ascending=True)"
   ]
  },
  {
   "cell_type": "markdown",
   "metadata": {},
   "source": [
    "We can see from the table that test error for the 2nd-order polynomial Regression is much greater than training error which is a varience problem. This causes overfitting issue. This doesn't reflect an ideal example of a good fitted model. "
   ]
  },
  {
   "cell_type": "markdown",
   "metadata": {},
   "source": [
    "Comparing the average Test error of the linear and  2nd-order polynomial Regression, the linear regression model is producing lowest test error. And also, the test error is lower than the training error for the linear regression model. From this, we can say that the predicted linear regression line is a better fit than the 2nd-order polynomial Regression line."
   ]
  },
  {
   "cell_type": "markdown",
   "metadata": {},
   "source": [
    "In order to implement 3rd-order polynomial Regression, we need to obtain a 4-dimensional weight vector. For that, we will add a column vector of x to the third power of the training data x, a column vector of square of the training data x and a column vector of 1’s to the features with the training data. After that, we will use formula of weight vector for regression."
   ]
  },
  {
   "cell_type": "code",
   "execution_count": 21,
   "metadata": {},
   "outputs": [],
   "source": [
    "# creating 4-dim matrix \n",
    "\n",
    "X3 = np.c_[np.ones(len(xTrain)), xTrain, np.power(xTrain,2), np.power(xTrain,3)]\n",
    "\n",
    "# calculating weight vector\n",
    "\n",
    "xT3 = X3.transpose()\n",
    "xTx3 = xT3.dot(X3)\n",
    "invxTx3 = np.linalg.inv(xTx3)\n",
    "invxTxxT3 = invxTx3.dot(xT3)\n",
    "weight3 = invxTxxT3.dot(yTrain)"
   ]
  },
  {
   "cell_type": "markdown",
   "metadata": {},
   "source": [
    "We will be creating a function which will calculate the predicted y value using the calculated weight from training phase for a newly constructed 1-D vector. Plotting the newly constructed 1-D vector and new predicted y values, we will get the 3rd-order polynomial regression line for training data."
   ]
  },
  {
   "cell_type": "code",
   "execution_count": 22,
   "metadata": {},
   "outputs": [],
   "source": [
    "# gerenating 3rd-order polynomial regression line for train data\n",
    "\n",
    "y_predtr3 = []\n",
    "def trd_plonomial_regression_tr(x, y, w): \n",
    "    \n",
    "     # Plotting the train data as scatter plot\n",
    "    plt.scatter(x, y,label = 'Train Data', color = \"b\") \n",
    "\n",
    "    # newly constracted 1-D vector\n",
    "    x_new = np.linspace(xTrain.min(), xTrain.max(), 100)\n",
    "    \n",
    "    # calculating y pred\n",
    "    global y_predtr3\n",
    "    y_predtr3 = w[3]*np.power(x_new,3) + w[2]*np.square(x_new) + w[1]*x_new + w[0] \n",
    "  \n",
    "    # Plotting the 3rd-order polynomial regression line \n",
    "    plt.plot(x_new, y_predtr3,label='3rd-order polynomial Regression Line', color = \"r\")  \n",
    "    plt.title('The 3rd-order polynomial Regression for Training Data')\n",
    "    plt.xlabel('x') \n",
    "    plt.ylabel('y')\n",
    "    plt.legend()\n",
    "    plt.show() "
   ]
  },
  {
   "cell_type": "code",
   "execution_count": 23,
   "metadata": {},
   "outputs": [
    {
     "data": {
      "image/png": "[encoded data removed]",
      "text/plain": [
       "<Figure size 432x288 with 1 Axes>"
      ]
     },
     "metadata": {
      "needs_background": "light"
     },
     "output_type": "display_data"
    }
   ],
   "source": [
    "# calling the function for 3rd-order polynomial line for train data\n",
    "trd_plonomial_regression_tr(xTrain, yTrain, weight3)\n"
   ]
  },
  {
   "cell_type": "markdown",
   "metadata": {},
   "source": [
    "Now, we will caculate the average error on the training set implementing equation 1."
   ]
  },
  {
   "cell_type": "code",
   "execution_count": 24,
   "metadata": {},
   "outputs": [
    {
     "name": "stdout",
     "output_type": "stream",
     "text": [
      "The average error of 3rd-order polynomial regression on the training set 0.03922874661114208\n"
     ]
    }
   ],
   "source": [
    "#calculating average error on the training set\n",
    "\n",
    "hy3 = weight3[3]*np.power(xTrain, 3) + weight3[2]*np.square(xTrain) + weight3[1]*xTrain + weight3[0] - yTrain\n",
    "sqhy3 = np.square(hy3)\n",
    "sum3 = np.sum(sqhy3)\n",
    "error3 = sum3/len(xTrain)\n",
    "\n",
    "print(\"The average error of 3rd-order polynomial regression on the training set\", error3)\n"
   ]
  },
  {
   "cell_type": "markdown",
   "metadata": {},
   "source": [
    "We will be creating a function which will calculate the predicted y value using the calculated weight from training phase for a newly constructed 1-D vector. Plotting the newly constructed 1-D vector and new predicted y values, we will get the 3rd-order polynomial regression line with respect to test data."
   ]
  },
  {
   "cell_type": "code",
   "execution_count": 25,
   "metadata": {},
   "outputs": [],
   "source": [
    "# gerenating 3rd-order polynomial regression line for test data\n",
    "\n",
    "y_predte3 = []\n",
    "def trd_plonomial_regression_te(x, y, w): \n",
    "    \n",
    "    # Plotting the test data as scatter plot\n",
    "    plt.scatter(x, y,  label = 'Test Data', color = \"g\") \n",
    "    \n",
    "    # newly constracted 1-D vector\n",
    "    x_new = np.linspace(xTrain.min(), xTrain.max(), 100)\n",
    "    \n",
    "    # calculating y pred\n",
    "    global y_predte3\n",
    "    y_predte3 = w[3]*np.power(x_new,3) + w[2]*np.square(x_new) + w[1]*x_new + w[0] \n",
    "  \n",
    "    # the 3rd-order polynomial regression line \n",
    "    plt.plot(x_new, y_predte3, label='3rd-order polynomial Regression Line', color = \"r\")  \n",
    "    plt.title('The 3rd-order polynomial Regression for Test Data')\n",
    "    plt.xlabel('x') \n",
    "    plt.ylabel('y')\n",
    "    plt.legend()\n",
    "    plt.show()"
   ]
  },
  {
   "cell_type": "code",
   "execution_count": 26,
   "metadata": {},
   "outputs": [
    {
     "data": {
      "image/png": "[encoded data removed]",
      "text/plain": [
       "<Figure size 432x288 with 1 Axes>"
      ]
     },
     "metadata": {
      "needs_background": "light"
     },
     "output_type": "display_data"
    }
   ],
   "source": [
    "# calling the function for 3rd-order polynomial line for test data\n",
    "\n",
    "trd_plonomial_regression_te(xTest, yTest, weight3)"
   ]
  },
  {
   "cell_type": "markdown",
   "metadata": {},
   "source": [
    "Now, we will caculate the average error on the test set implementing equation 1."
   ]
  },
  {
   "cell_type": "code",
   "execution_count": 27,
   "metadata": {},
   "outputs": [
    {
     "name": "stdout",
     "output_type": "stream",
     "text": [
      "The average error of 3rd-order polynomial regression on the test set 0.05641833004408866\n"
     ]
    }
   ],
   "source": [
    "#calculating average error on the test set\n",
    "\n",
    "hy33 = weight3[3]*np.power(xTest, 3) +weight3[2]*np.square(xTest) + weight3[1]*xTest + weight3[0] - yTest\n",
    "sqhy33 = np.square(hy33)\n",
    "sum33 = np.sum(sqhy33)\n",
    "error33 = sum33/len(xTest)\n",
    "\n",
    "print(\"The average error of 3rd-order polynomial regression on the test set\", error33)"
   ]
  },
  {
   "cell_type": "code",
   "execution_count": 28,
   "metadata": {},
   "outputs": [
    {
     "data": {
      "text/html": [
       "<div>\n",
       "<style scoped>\n",
       "    .dataframe tbody tr th:only-of-type {\n",
       "        vertical-align: middle;\n",
       "    }\n",
       "\n",
       "    .dataframe tbody tr th {\n",
       "        vertical-align: top;\n",
       "    }\n",
       "\n",
       "    .dataframe thead th {\n",
       "        text-align: right;\n",
       "    }\n",
       "</style>\n",
       "<table border=\"1\" class=\"dataframe\">\n",
       "  <thead>\n",
       "    <tr style=\"text-align: right;\">\n",
       "      <th></th>\n",
       "      <th>Model</th>\n",
       "      <th>Training Error</th>\n",
       "      <th>Test Error</th>\n",
       "    </tr>\n",
       "  </thead>\n",
       "  <tbody>\n",
       "    <tr>\n",
       "      <th>2</th>\n",
       "      <td>3rd-order Polinomial Regression</td>\n",
       "      <td>0.039229</td>\n",
       "      <td>0.056418</td>\n",
       "    </tr>\n",
       "    <tr>\n",
       "      <th>0</th>\n",
       "      <td>Linear Regression</td>\n",
       "      <td>0.508589</td>\n",
       "      <td>0.443912</td>\n",
       "    </tr>\n",
       "    <tr>\n",
       "      <th>1</th>\n",
       "      <td>2nd-order Polinomial Regression</td>\n",
       "      <td>0.200985</td>\n",
       "      <td>0.853263</td>\n",
       "    </tr>\n",
       "  </tbody>\n",
       "</table>\n",
       "</div>"
      ],
      "text/plain": [
       "                             Model  Training Error  Test Error\n",
       "2  3rd-order Polinomial Regression        0.039229    0.056418\n",
       "0                Linear Regression        0.508589    0.443912\n",
       "1  2nd-order Polinomial Regression        0.200985    0.853263"
      ]
     },
     "execution_count": 28,
     "metadata": {},
     "output_type": "execute_result"
    }
   ],
   "source": [
    "#Comparison\n",
    "models = pd.DataFrame({\n",
    "    'Model': ['Linear Regression', \n",
    "              '2nd-order Polinomial Regression',\n",
    "             '3rd-order Polinomial Regression'],\n",
    "    'Training Error': [error1, error2, error3],\n",
    "    'Test Error': [error11, error22, error33],\n",
    "})\n",
    "models.sort_values(by='Test Error',ascending=True)\n"
   ]
  },
  {
   "cell_type": "markdown",
   "metadata": {},
   "source": [
    "We can see from the table that test error for the 3rd-order polynomial Regression is low and slightly higher than the training error. This is a sign that this model is a good fit."
   ]
  },
  {
   "cell_type": "markdown",
   "metadata": {},
   "source": [
    "Comparing the average Test error of the linear, 2nd-order polynomial Regression and 3rd-order Polinomial Regression, the 3rd-order Polinomial Regression model is producing lowest test error and a good fitted model itself. From this, we can say that the predicted 3rd-order Polinomial Regression line is a better fit than the linear and the 2nd-order polynomial Regression line."
   ]
  },
  {
   "cell_type": "markdown",
   "metadata": {},
   "source": [
    "In order to implement 4th-order polynomial Regression, we need to obtain a 5-dimensional weight vector. For that, we will add a column vector of x to the fourth power of the training data x, a column vector of x to the third power of the training data x, a column vector of square of the training data x and a column vector of 1’s to the features with the training data. After that, we will use formula of weight vector for regression.\n"
   ]
  },
  {
   "cell_type": "code",
   "execution_count": 29,
   "metadata": {},
   "outputs": [],
   "source": [
    "# creating 5-dim matrix \n",
    "X4 = np.c_[np.ones(len(xTrain)), xTrain, np.power(xTrain,2), np.power(xTrain,3), np.power(xTrain,4)]\n",
    "\n",
    "# calculating weight vector\n",
    "xT4 = X4.transpose()\n",
    "xTx4 = xT4.dot(X4)\n",
    "invxTx4 = np.linalg.inv(xTx4)\n",
    "invxTxxT4 = invxTx4.dot(xT4)\n",
    "weight4 = invxTxxT4.dot(yTrain)"
   ]
  },
  {
   "cell_type": "markdown",
   "metadata": {},
   "source": [
    "We will be creating a function which will calculate the predicted y value using the calculated weight from training phase for a newly constructed 1-D vector. Plotting the newly constructed 1-D vector and new predicted y values, we will get the 4th-order polynomial regression line for training data.\n"
   ]
  },
  {
   "cell_type": "code",
   "execution_count": 30,
   "metadata": {},
   "outputs": [],
   "source": [
    "# gerenating 4th-order polynomial regression line for train data\n",
    "\n",
    "y_predtr4 = []\n",
    "def fr_plonomial_regression_tr(x, y, w): \n",
    "    \n",
    "    # Plotting the train data as scatter plot\n",
    "    plt.scatter(x, y,label = 'Train Data', color = \"b\") \n",
    "\n",
    "    # newly constracted 1-D vector\n",
    "    x_new = np.linspace(xTrain.min(), xTrain.max(), 100)\n",
    "    \n",
    "    # calculating y pred\n",
    "    global y_predtr4\n",
    "    y_predtr4 = w[4]*np.power(x_new,4) + w[3]*np.power(x_new,3) + w[2]*np.square(x_new) + w[1]*x_new + w[0] \n",
    "  \n",
    "    # plotting the 4th-order polynomial regression line  \n",
    "    plt.plot(x_new, y_predtr4, label='4th-order polynomial Regression Line', color = \"r\")  \n",
    "    plt.title('The 4th-order polynomial Regression for Training Data')\n",
    "    plt.xlabel('x') \n",
    "    plt.ylabel('y')\n",
    "    plt.legend()\n",
    "    plt.show() "
   ]
  },
  {
   "cell_type": "code",
   "execution_count": 31,
   "metadata": {},
   "outputs": [
    {
     "data": {
      "image/png": "[encoded data removed]",
      "text/plain": [
       "<Figure size 432x288 with 1 Axes>"
      ]
     },
     "metadata": {
      "needs_background": "light"
     },
     "output_type": "display_data"
    }
   ],
   "source": [
    "# calling the function for 4th-order polynomial line for train data\n",
    "fr_plonomial_regression_tr(xTrain, yTrain, weight4)\n"
   ]
  },
  {
   "cell_type": "markdown",
   "metadata": {},
   "source": [
    "Now, we will caculate the average error on the training set implementing equation 1."
   ]
  },
  {
   "cell_type": "code",
   "execution_count": 32,
   "metadata": {},
   "outputs": [
    {
     "name": "stdout",
     "output_type": "stream",
     "text": [
      "The average error of 3rd-order polynomial regression on the training set 0.0356447072443992\n"
     ]
    }
   ],
   "source": [
    "#calculating average error on the training set\n",
    "\n",
    "hy4 = weight4[4]*np.power(xTrain,4) + weight4[3]*np.power(xTrain, 3) + weight4[2]*np.square(xTrain) + weight4[1]*xTrain + weight4[0] - yTrain\n",
    "sqhy4 = np.square(hy4)\n",
    "sum4 = np.sum(sqhy4)\n",
    "error4 = sum4/len(xTrain)\n",
    "\n",
    "print(\"The average error of 3rd-order polynomial regression on the training set\", error4)\n"
   ]
  },
  {
   "cell_type": "markdown",
   "metadata": {},
   "source": [
    "We will be creating a function which will calculate the predicted y value using the calculated weight from training phase for a newly constructed 1-D vector. Plotting the newly constructed 1-D vector and new predicted y values, we will get the 4th-order polynomial regression line with respect to test data."
   ]
  },
  {
   "cell_type": "code",
   "execution_count": 33,
   "metadata": {},
   "outputs": [],
   "source": [
    "# gerenating 4th-order polynomial regression line for test data\n",
    "\n",
    "y_predte4 = []\n",
    "def fr_plonomial_regression_te(x, y, w): \n",
    "    \n",
    "    # Plotting the test data as scatter plot\n",
    "    plt.scatter(x, y, label = 'Test Data', color = \"g\") \n",
    "\n",
    "    # newly constracted 1-D vector\n",
    "    x_new = np.linspace(xTrain.min(), xTrain.max(), 100)\n",
    "    \n",
    "    # calculating y pred\n",
    "    global y_predte4\n",
    "    y_predte4 = w[4]*np.power(x_new,4) + w[3]*np.power(x_new,3) + w[2]*np.square(x_new) + w[1]*x_new + w[0] \n",
    "  \n",
    "    # Plotting the 4th-order polynomial Regression Line\n",
    "    plt.plot(x_new, y_predte4,label='4th-order polynomial Regression Line', color = \"r\")  \n",
    "    plt.title('The 4th-order polynomial Regression for Test Data')\n",
    "    plt.xlabel('x') \n",
    "    plt.ylabel('y')\n",
    "    plt.legend()\n",
    "    plt.show()"
   ]
  },
  {
   "cell_type": "code",
   "execution_count": 34,
   "metadata": {},
   "outputs": [
    {
     "data": {
      "image/png": "[encoded data removed]",
      "text/plain": [
       "<Figure size 432x288 with 1 Axes>"
      ]
     },
     "metadata": {
      "needs_background": "light"
     },
     "output_type": "display_data"
    }
   ],
   "source": [
    "# calling the function for 3rd-order polynomial line for test data\n",
    "fr_plonomial_regression_te(xTest, yTest, weight4)"
   ]
  },
  {
   "cell_type": "markdown",
   "metadata": {},
   "source": [
    "Now, we will caculate the average error on the test set implementing equation 1."
   ]
  },
  {
   "cell_type": "code",
   "execution_count": 35,
   "metadata": {},
   "outputs": [
    {
     "name": "stdout",
     "output_type": "stream",
     "text": [
      "The average error of 3rd-order polynomial regression on the test set 0.12722197193357127\n"
     ]
    }
   ],
   "source": [
    "#calculating average error on the test set\n",
    "\n",
    "hy44 = weight4[4]*np.power(xTest, 4) + weight4[3]*np.power(xTest, 3) +weight4[2]*np.square(xTest) + weight4[1]*xTest + weight4[0] - yTest\n",
    "sqhy44 = np.square(hy44)\n",
    "sum44 = np.sum(sqhy44)\n",
    "error44 = sum44/len(xTest)\n",
    "\n",
    "print(\"The average error of 3rd-order polynomial regression on the test set\", error44)"
   ]
  },
  {
   "cell_type": "code",
   "execution_count": 36,
   "metadata": {},
   "outputs": [
    {
     "data": {
      "text/html": [
       "<div>\n",
       "<style scoped>\n",
       "    .dataframe tbody tr th:only-of-type {\n",
       "        vertical-align: middle;\n",
       "    }\n",
       "\n",
       "    .dataframe tbody tr th {\n",
       "        vertical-align: top;\n",
       "    }\n",
       "\n",
       "    .dataframe thead th {\n",
       "        text-align: right;\n",
       "    }\n",
       "</style>\n",
       "<table border=\"1\" class=\"dataframe\">\n",
       "  <thead>\n",
       "    <tr style=\"text-align: right;\">\n",
       "      <th></th>\n",
       "      <th>Model</th>\n",
       "      <th>Training Error</th>\n",
       "      <th>Test Error</th>\n",
       "    </tr>\n",
       "  </thead>\n",
       "  <tbody>\n",
       "    <tr>\n",
       "      <th>2</th>\n",
       "      <td>3rd-order Polinomial Regression</td>\n",
       "      <td>0.039229</td>\n",
       "      <td>0.056418</td>\n",
       "    </tr>\n",
       "    <tr>\n",
       "      <th>3</th>\n",
       "      <td>4th-order Polinomial Regression</td>\n",
       "      <td>0.035645</td>\n",
       "      <td>0.127222</td>\n",
       "    </tr>\n",
       "    <tr>\n",
       "      <th>0</th>\n",
       "      <td>Linear Regression</td>\n",
       "      <td>0.508589</td>\n",
       "      <td>0.443912</td>\n",
       "    </tr>\n",
       "    <tr>\n",
       "      <th>1</th>\n",
       "      <td>2nd-order Polinomial Regression</td>\n",
       "      <td>0.200985</td>\n",
       "      <td>0.853263</td>\n",
       "    </tr>\n",
       "  </tbody>\n",
       "</table>\n",
       "</div>"
      ],
      "text/plain": [
       "                             Model  Training Error  Test Error\n",
       "2  3rd-order Polinomial Regression        0.039229    0.056418\n",
       "3  4th-order Polinomial Regression        0.035645    0.127222\n",
       "0                Linear Regression        0.508589    0.443912\n",
       "1  2nd-order Polinomial Regression        0.200985    0.853263"
      ]
     },
     "execution_count": 36,
     "metadata": {},
     "output_type": "execute_result"
    }
   ],
   "source": [
    "#Comparison\n",
    "models = pd.DataFrame({\n",
    "    'Model': ['Linear Regression', \n",
    "              '2nd-order Polinomial Regression',\n",
    "             '3rd-order Polinomial Regression',\n",
    "             '4th-order Polinomial Regression'],\n",
    "    'Training Error': [error1, error2, error3, error4],\n",
    "    'Test Error': [error11, error22, error33, error44],\n",
    "})\n",
    "models.sort_values(by='Test Error',ascending=True)\n"
   ]
  },
  {
   "cell_type": "markdown",
   "metadata": {},
   "source": [
    "We can see from the table that test error for the 4th-order polynomial Regression is much higher than training error which is a varience problem. This causes overfitting issue. This doesn't reflect an ideal example of a good fitted model. "
   ]
  },
  {
   "cell_type": "markdown",
   "metadata": {},
   "source": [
    "Comparing the average Test error of the linear, 2nd-order polynomial Regression, 3rd-order Polinomial Regression and 4th-order Polinomial Regression, the 3rd-order Polinomial Regression model is producing lowest test error and a good fitted model itself. From this, we can say that the predicted 3rd-order Polinomial Regression line is a better fit model than the linear, the 2nd-order polynomial Regression and 4th-order Polinomial Regression line.\n"
   ]
  },
  {
   "cell_type": "markdown",
   "metadata": {},
   "source": [
    "We aim here to implement L2-regularized for the 4th-order polynomial Regression using the training data. we will use the 5-D matrix created on the previous answer named X4 which contains a column vector of x to the third power of the training data x, a column vector of square of the training data x and a column vector of 1’s to the features with the training data. After that, we will use formula of weight vector. while calculating the weight vector, we will use 6 different given λ value 0.01, 0.1, 1, 10, 100, 1000. And, for 6 different λ we will calculate 6 different weight vectors. Using those 6 weights, we will calculate the training error averaged over all instances. This will give us 6 different training errors for the 6 given λ value."
   ]
  },
  {
   "cell_type": "code",
   "execution_count": 37,
   "metadata": {},
   "outputs": [],
   "source": [
    "# components for weight calculation\n",
    "\n",
    "xTx4 = X4.transpose().dot(X4)\n",
    "xTy = X4.transpose().dot(yTrain)\n",
    "\n",
    "# identity matrix \n",
    "i = np.identity(len(xTx4))\n",
    "i[0][0] = 0"
   ]
  },
  {
   "cell_type": "code",
   "execution_count": 38,
   "metadata": {},
   "outputs": [
    {
     "name": "stdout",
     "output_type": "stream",
     "text": [
      "6 Training errors for L2 regularization for the 4th-order polynomial regression  [0.03739599518339808, 0.06844372003857341, 0.15265564122519787, 0.4494125923057126, 0.6541322428423528, 0.8703848180845201]\n"
     ]
    }
   ],
   "source": [
    "# λ values\n",
    "L = [0.01, 0.1, 1, 10, 100, 1000]\n",
    "\n",
    "W =[]\n",
    "errortr = []\n",
    "\n",
    "# calculating 6 weights and 6 training error for 6 given λ\n",
    "for x in L:\n",
    "    \n",
    "    # weight\n",
    "    LI = x*i\n",
    "    inv = np.linalg.inv(xTx4 + LI)\n",
    "    w = inv.dot(xTy)\n",
    "    W.append(w)\n",
    "    \n",
    "    # error\n",
    "    h = X4.dot(w)\n",
    "    hy = h -yTrain\n",
    "    sqhy = np.square(hy)\n",
    "    sum = np.sum(sqhy)\n",
    "    mean = sum/len(xTrain)\n",
    "    errortr.append(mean)\n",
    "    \n",
    "print(\"6 Training errors for L2 regularization for the 4th-order polynomial regression \",errortr)    \n",
    "  "
   ]
  },
  {
   "cell_type": "markdown",
   "metadata": {},
   "source": [
    "Now, we will create a 5-D matrix which will contain a column vector of x to the fourth power of the test data x, a column vector of x to the third power of the test data x, a column vector of square of the test data x and a column vector of 1’s to the features with the test data.  Using the 6 weights calculated from training, we will calculate the test error averaged over all instances for test data. This will give us 6 different test errors for the 6 given λ value."
   ]
  },
  {
   "cell_type": "code",
   "execution_count": 39,
   "metadata": {},
   "outputs": [
    {
     "name": "stdout",
     "output_type": "stream",
     "text": [
      "6 Test errors for L2 regularization for the 4th-order polynomial regression  [0.08187555427182609, 0.05702242426729154, 0.10362435733059117, 0.8992500727744547, 0.8172447612107077, 0.5330302440962492]\n"
     ]
    }
   ],
   "source": [
    "# creating 5-D matrix\n",
    "X44 = np.c_[np.ones(len(xTest)), xTest, np.power(xTest,2), np.power(xTest,3), np.power(xTest,4)]\n",
    "\n",
    "errorte = []\n",
    "count = 0\n",
    "\n",
    "# calculating 6 test error for 6 given λ\n",
    "for x in L:\n",
    "    \n",
    "    ht = X44.dot(W[count])\n",
    "    hyt = ht-yTest\n",
    "    sqhyt = np.square(hyt)\n",
    "    sum = np.sum(sqhyt)\n",
    "    mean = sum/len(xTest)\n",
    "    errorte.append(mean)\n",
    "    count = count+1\n",
    "    \n",
    "print(\"6 Test errors for L2 regularization for the 4th-order polynomial regression \",errorte)"
   ]
  },
  {
   "cell_type": "markdown",
   "metadata": {},
   "source": [
    "With the calculated train and test error, we will plot the train and test error as a function of lamda."
   ]
  },
  {
   "cell_type": "code",
   "execution_count": 42,
   "metadata": {},
   "outputs": [
    {
     "data": {
      "image/png": "[encoded data removed]",
      "text/plain": [
       "<Figure size 432x288 with 1 Axes>"
      ]
     },
     "metadata": {
      "needs_background": "light"
     },
     "output_type": "display_data"
    }
   ],
   "source": [
    "# plot the train and test error\n",
    "\n",
    "plt.plot(L,errortr,label= \"Train Error\", color= 'b')\n",
    "plt.plot(L,errorte, label= \"Test Error\", color= 'r')\n",
    "plt.title('Train and Test error as a function of λ')\n",
    "plt.xscale(\"log\")\n",
    "plt.xlabel('λ') \n",
    "plt.ylabel('error') \n",
    "plt.legend()\n",
    "plt.show()\n"
   ]
  },
  {
   "cell_type": "code",
   "execution_count": 43,
   "metadata": {},
   "outputs": [
    {
     "data": {
      "text/html": [
       "<div>\n",
       "<style scoped>\n",
       "    .dataframe tbody tr th:only-of-type {\n",
       "        vertical-align: middle;\n",
       "    }\n",
       "\n",
       "    .dataframe tbody tr th {\n",
       "        vertical-align: top;\n",
       "    }\n",
       "\n",
       "    .dataframe thead th {\n",
       "        text-align: right;\n",
       "    }\n",
       "</style>\n",
       "<table border=\"1\" class=\"dataframe\">\n",
       "  <thead>\n",
       "    <tr style=\"text-align: right;\">\n",
       "      <th></th>\n",
       "      <th>λ</th>\n",
       "      <th>Training Error</th>\n",
       "      <th>Test Error</th>\n",
       "    </tr>\n",
       "  </thead>\n",
       "  <tbody>\n",
       "    <tr>\n",
       "      <th>0</th>\n",
       "      <td>0.01</td>\n",
       "      <td>0.037396</td>\n",
       "      <td>0.081876</td>\n",
       "    </tr>\n",
       "    <tr>\n",
       "      <th>1</th>\n",
       "      <td>0.1</td>\n",
       "      <td>0.068444</td>\n",
       "      <td>0.057022</td>\n",
       "    </tr>\n",
       "    <tr>\n",
       "      <th>2</th>\n",
       "      <td>1</td>\n",
       "      <td>0.152656</td>\n",
       "      <td>0.103624</td>\n",
       "    </tr>\n",
       "    <tr>\n",
       "      <th>3</th>\n",
       "      <td>10</td>\n",
       "      <td>0.449413</td>\n",
       "      <td>0.899250</td>\n",
       "    </tr>\n",
       "    <tr>\n",
       "      <th>4</th>\n",
       "      <td>100</td>\n",
       "      <td>0.654132</td>\n",
       "      <td>0.817245</td>\n",
       "    </tr>\n",
       "    <tr>\n",
       "      <th>5</th>\n",
       "      <td>1000</td>\n",
       "      <td>0.870385</td>\n",
       "      <td>0.533030</td>\n",
       "    </tr>\n",
       "  </tbody>\n",
       "</table>\n",
       "</div>"
      ],
      "text/plain": [
       "      λ  Training Error  Test Error\n",
       "0  0.01        0.037396    0.081876\n",
       "1   0.1        0.068444    0.057022\n",
       "2     1        0.152656    0.103624\n",
       "3    10        0.449413    0.899250\n",
       "4   100        0.654132    0.817245\n",
       "5  1000        0.870385    0.533030"
      ]
     },
     "execution_count": 43,
     "metadata": {},
     "output_type": "execute_result"
    }
   ],
   "source": [
    "#Comparison\n",
    "models = pd.DataFrame({\n",
    "    'λ': ['0.01',\n",
    "              '0.1',\n",
    "              '1',\n",
    "              '10',\n",
    "              '100',\n",
    "             '1000'],\n",
    "    'Training Error': [errortr[0], errortr[1], errortr[2], errortr[3], errortr[4], errortr[5]],\n",
    "    'Test Error': [errorte[0], errorte[1], errorte[2], errorte[3],errorte[4],errorte[5]],\n",
    "})\n",
    "models.sort_values(by='λ',ascending=True)\n"
   ]
  },
  {
   "cell_type": "markdown",
   "metadata": {},
   "source": [
    "Comparing the average Test error for all the λ values from the table, we can say that test error for λ= 0.1 is the lowest of them all. Along with that, the test error for λ=0.1 is lower than training error which is a sign that this model is a good fitted model. According to this, the best λ for fitting the data is 0.1 for L2-regularization for the 4th-order polynomial regression."
   ]
  },
  {
   "cell_type": "markdown",
   "metadata": {},
   "source": [
    "In order to plot the value of each weight parameter as a function of λ, we will use the previously calculated weight vector, W."
   ]
  },
  {
   "cell_type": "code",
   "execution_count": 44,
   "metadata": {},
   "outputs": [],
   "source": [
    "# reconstracting weight vector\n",
    "\n",
    "WeightMat = np.transpose(np.concatenate((W[0],W[1],W[2],W[3],W[4],W[5]),1))"
   ]
  },
  {
   "cell_type": "code",
   "execution_count": 45,
   "metadata": {},
   "outputs": [
    {
     "data": {
      "image/png": "[encoded data removed]",
      "text/plain": [
       "<Figure size 432x288 with 1 Axes>"
      ]
     },
     "metadata": {
      "needs_background": "light"
     },
     "output_type": "display_data"
    }
   ],
   "source": [
    "# plotting the value of each weight parameter as a function of λ\n",
    "\n",
    "plt.plot(L,WeightMat[:,0], label='weight0')\n",
    "plt.plot(L,WeightMat[:,1], label='weight1')\n",
    "plt.plot(L,WeightMat[:,2], label='weight2')\n",
    "plt.plot(L,WeightMat[:,3], label='weight3')\n",
    "plt.plot(L,WeightMat[:,4], label='weight4')\n",
    "\n",
    "plt.title('Each weight parameter as a function of λ')\n",
    "plt.xscale(\"log\")\n",
    "plt.xlabel('λ') \n",
    "plt.ylabel('Weight')\n",
    "plt.legend()\n",
    "plt.show()"
   ]
  },
  {
   "cell_type": "markdown",
   "metadata": {},
   "source": [
    "In order to performs five-fold cross-validation on my training data, I have splitted the training data into 5 sections. I have written two functions Train and Validation which will create 5 training sets and 5 validation sets combining 5 splitted sets in different combination. "
   ]
  },
  {
   "cell_type": "code",
   "execution_count": 46,
   "metadata": {},
   "outputs": [],
   "source": [
    "# creating training sets in different combination \n",
    "def Train(X,l):\n",
    "    \n",
    "    foldset = []\n",
    "    for x in range(l):\n",
    "        fold = (X[x%l],X[(x+1)%l],X[(x+2)%l],X[(x+3)%l])\n",
    "        foldset.append(np.vstack(fold))\n",
    "    return foldset\n",
    "    \n",
    "# creating Validation sets in different combination \n",
    "def Validation(X,l):\n",
    "    \n",
    "    foldset = []\n",
    "    for x in range(l):\n",
    "        foldset.append(X[(x+4)%l])\n",
    "    return foldset\n"
   ]
  },
  {
   "cell_type": "markdown",
   "metadata": {},
   "source": [
    "I have added another function, kFoldTrain which will calculate 6 different weight vectors for 6 different λ."
   ]
  },
  {
   "cell_type": "code",
   "execution_count": 47,
   "metadata": {},
   "outputs": [],
   "source": [
    "def kFoldTrain(x,y) :\n",
    "    \n",
    "    #creating 5-D matrix\n",
    "    Xf= np.c_[np.ones(len(x)), x, np.power(x,2), np.power(x,3), np.power(x,4)]\n",
    "    \n",
    "    xTxf = Xf.transpose().dot(Xf)\n",
    "    xTyf = Xf.transpose().dot(y)\n",
    "    \n",
    "    i1 = np.identity(len(xTxf))\n",
    "    i1[0][0] = 0\n",
    "    \n",
    "    Wf =[]\n",
    "    #Weight calculation\n",
    "    for elem in L:\n",
    "        LI = elem*i1\n",
    "        inv = np.linalg.inv(xTxf + LI)\n",
    "        w = inv.dot(xTyf)\n",
    "        Wf.append(w)\n",
    "    \n",
    "    return Wf"
   ]
  },
  {
   "cell_type": "markdown",
   "metadata": {},
   "source": [
    "Another function, kFoldVal which will 6 different validation errors for the 6 given λ value."
   ]
  },
  {
   "cell_type": "code",
   "execution_count": 48,
   "metadata": {},
   "outputs": [],
   "source": [
    "def kFoldVal(x,y,w) :\n",
    "    \n",
    "    #creating 5-D matrix\n",
    "    Xf = np.c_[np.ones(len(x)), x , np.power(x ,2), np.power(x ,3), np.power(x ,4)]\n",
    "\n",
    "    errorte = []\n",
    "    count = 0\n",
    "    \n",
    "    #Weight calculation\n",
    "    for elem in L:\n",
    "\n",
    "        ht = Xf.dot(w[count])\n",
    "        hyt = ht-y\n",
    "        sqhyt = np.square(hyt)\n",
    "\n",
    "        sum = np.sum(sqhyt)\n",
    "        mean = sum/len(x)\n",
    "        errorte.append(mean)\n",
    "        count = count+1\n",
    "        \n",
    "    return errorte"
   ]
  },
  {
   "cell_type": "code",
   "execution_count": 49,
   "metadata": {},
   "outputs": [],
   "source": [
    "#splitting training set into 5 sets\n",
    "xTr = np.array_split(xTrain,5)\n",
    "yTr = np.array_split(yTrain,5)\n",
    "\n",
    "# creating 5 training sets 5 splitted sets in different combination\n",
    "xTrainNew = Train(xTr, 5)\n",
    "yTrainNew = Train(yTr, 5)\n",
    "\n",
    "# creating 5 validation sets 5 splitted sets in different combination\n",
    "xValNew = Validation(xTr, 5)\n",
    "yValNew = Validation(yTr, 5)\n"
   ]
  },
  {
   "cell_type": "code",
   "execution_count": 50,
   "metadata": {},
   "outputs": [],
   "source": [
    "#creating 6 different validation errors for the 6 given λ value for each sets\n",
    "\n",
    "#one set\n",
    "W1 = kFoldTrain(xTrainNew[0], yTrainNew[0])\n",
    "er1 = kFoldVal(xValNew[0],yValNew[0], W1)\n",
    "\n",
    "#2nd set\n",
    "W2 = kFoldTrain(xTrainNew[1], yTrainNew[1])\n",
    "er2 = kFoldVal(xValNew[1],yValNew[1], W2)\n",
    "\n",
    "#3rd set\n",
    "W3 = kFoldTrain(xTrainNew[2], yTrainNew[2])\n",
    "er3 = kFoldVal(xValNew[2],yValNew[2], W3)\n",
    "\n",
    "#4th set\n",
    "W4 = kFoldTrain(xTrainNew[3], yTrainNew[3])\n",
    "er4 = kFoldVal(xValNew[3],yValNew[3], W4)\n",
    "\n",
    "#5th set\n",
    "W5 = kFoldTrain(xTrainNew[3], yTrainNew[3])\n",
    "er5 = kFoldVal(xValNew[3],yValNew[3], W5)\n"
   ]
  },
  {
   "cell_type": "markdown",
   "metadata": {},
   "source": [
    "Now we will calculate the average error on the validation set as a function of λ from the validation errors from the 5 sets."
   ]
  },
  {
   "cell_type": "code",
   "execution_count": 51,
   "metadata": {},
   "outputs": [
    {
     "name": "stdout",
     "output_type": "stream",
     "text": [
      "The average error on the validation set  [0.06155138674395878, 0.08917483349053956, 0.1742242922135783, 0.47894390952761184, 0.6827234239976796, 0.8943413698306164]\n"
     ]
    }
   ],
   "source": [
    "# calculating average error\n",
    "Lam = []\n",
    "for x in range(6):\n",
    "    Lam.append((er1[x]+er2[x]+er3[x]+er4[x]+er5[x])/5)\n",
    "print('The average error on the validation set ',Lam)"
   ]
  },
  {
   "cell_type": "code",
   "execution_count": 52,
   "metadata": {},
   "outputs": [
    {
     "data": {
      "text/html": [
       "<div>\n",
       "<style scoped>\n",
       "    .dataframe tbody tr th:only-of-type {\n",
       "        vertical-align: middle;\n",
       "    }\n",
       "\n",
       "    .dataframe tbody tr th {\n",
       "        vertical-align: top;\n",
       "    }\n",
       "\n",
       "    .dataframe thead th {\n",
       "        text-align: right;\n",
       "    }\n",
       "</style>\n",
       "<table border=\"1\" class=\"dataframe\">\n",
       "  <thead>\n",
       "    <tr style=\"text-align: right;\">\n",
       "      <th></th>\n",
       "      <th>λ</th>\n",
       "      <th>Validation Error</th>\n",
       "    </tr>\n",
       "  </thead>\n",
       "  <tbody>\n",
       "    <tr>\n",
       "      <th>0</th>\n",
       "      <td>0.01</td>\n",
       "      <td>0.061551</td>\n",
       "    </tr>\n",
       "    <tr>\n",
       "      <th>1</th>\n",
       "      <td>0.1</td>\n",
       "      <td>0.089175</td>\n",
       "    </tr>\n",
       "    <tr>\n",
       "      <th>2</th>\n",
       "      <td>1</td>\n",
       "      <td>0.174224</td>\n",
       "    </tr>\n",
       "    <tr>\n",
       "      <th>3</th>\n",
       "      <td>10</td>\n",
       "      <td>0.478944</td>\n",
       "    </tr>\n",
       "    <tr>\n",
       "      <th>4</th>\n",
       "      <td>100</td>\n",
       "      <td>0.682723</td>\n",
       "    </tr>\n",
       "    <tr>\n",
       "      <th>5</th>\n",
       "      <td>1000</td>\n",
       "      <td>0.894341</td>\n",
       "    </tr>\n",
       "  </tbody>\n",
       "</table>\n",
       "</div>"
      ],
      "text/plain": [
       "      λ  Validation Error\n",
       "0  0.01          0.061551\n",
       "1   0.1          0.089175\n",
       "2     1          0.174224\n",
       "3    10          0.478944\n",
       "4   100          0.682723\n",
       "5  1000          0.894341"
      ]
     },
     "execution_count": 52,
     "metadata": {},
     "output_type": "execute_result"
    }
   ],
   "source": [
    "#Comparison\n",
    "models = pd.DataFrame({\n",
    "    'λ': ['0.01',\n",
    "              '0.1',\n",
    "              '1',\n",
    "              '10',\n",
    "              '100',\n",
    "             '1000'],\n",
    "    'Validation Error': [Lam[0], Lam[1], Lam[2], Lam[3],Lam[4],Lam[5]],\n",
    "})\n",
    "models.sort_values(by='λ',ascending=True)\n"
   ]
  },
  {
   "cell_type": "markdown",
   "metadata": {},
   "source": [
    "Comparing the average Validation error for all the λ values from the table, we can say that test error for λ= 0.01 is the lowest of them all. According to this, the best λ for fitting the data is 0.01 for five-fold cross-validation L2-regularization for the 4th-order polynomial regression."
   ]
  },
  {
   "cell_type": "markdown",
   "metadata": {},
   "source": [
    "We can see that this best λ is not same as the best λ in (a)."
   ]
  },
  {
   "cell_type": "code",
   "execution_count": 53,
   "metadata": {},
   "outputs": [
    {
     "data": {
      "image/png": "[encoded data removed]",
      "text/plain": [
       "<Figure size 432x288 with 1 Axes>"
      ]
     },
     "metadata": {
      "needs_background": "light"
     },
     "output_type": "display_data"
    }
   ],
   "source": [
    "# plotting comparison betwwen best λ of(a) and (c)\n",
    "plt.scatter(L[0],Lam[0], label = \"Best λ for (c)\", color= 'r')\n",
    "plt.scatter(L[1],errorte[1],label = \"Best λ for (a)\", color= 'b')\n",
    "plt.title('Best λ comparison between (a) and (c)')\n",
    "plt.xscale(\"log\")\n",
    "plt.xlabel('λ ') \n",
    "plt.ylabel('error')\n",
    "plt.legend()\n",
    "plt.show()"
   ]
  },
  {
   "cell_type": "markdown",
   "metadata": {},
   "source": [
    "We will use previously calculated weight value for λ = 0.01 and calculate the predicted y value for a newly constructed 1-D vector. Plotting the newly constructed 1-D vector and new predicted y values, we will get the L2-regularized 4th-order polynomial regression line for best λ = 0.01."
   ]
  },
  {
   "cell_type": "code",
   "execution_count": 54,
   "metadata": {},
   "outputs": [
    {
     "data": {
      "image/png": "[encoded data removed]",
      "text/plain": [
       "<Figure size 432x288 with 1 Axes>"
      ]
     },
     "metadata": {
      "needs_background": "light"
     },
     "output_type": "display_data"
    }
   ],
   "source": [
    "plt.scatter(xTest, yTest,label=\"Test data\", color = \"g\") \n",
    "\n",
    "bestW = W[0]\n",
    "\n",
    "x_newkf = np.linspace(xTrain.min(), xTrain.max(), 100)\n",
    "y_predkf = bestW[4]*np.power(x_newkf,4) + bestW[3]*np.power(x_newkf,3) + bestW[2]*np.square(x_newkf) + bestW[1]*x_newkf + bestW[0] \n",
    "\n",
    "# Plotting the regression line \n",
    "plt.plot(x_newkf, y_predkf, label='L2-regularized 4th-order polynomial Regression Line', color = \"r\")  \n",
    "plt.title('L2-regularized 4th-order polynomial Regression for Test Data')\n",
    "plt.xlabel('x') \n",
    "plt.ylabel('y')\n",
    "plt.legend()\n",
    "plt.show()"
   ]
  }
 ],
 "metadata": {
  "kernelspec": {
   "display_name": "Python 3.6 (tensorflow)",
   "language": "python",
   "name": "tensorflow"
  },
  "language_info": {
   "codemirror_mode": {
    "name": "ipython",
    "version": 3
   },
   "file_extension": ".py",
   "mimetype": "text/x-python",
   "name": "python",
   "nbconvert_exporter": "python",
   "pygments_lexer": "ipython3",
   "version": "3.6.8"
  }
 },
 "nbformat": 4,
 "nbformat_minor": 2
}
